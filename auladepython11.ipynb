{
  "nbformat": 4,
  "nbformat_minor": 0,
  "metadata": {
    "colab": {
      "provenance": []
    },
    "kernelspec": {
      "name": "python3",
      "display_name": "Python 3"
    },
    "language_info": {
      "name": "python"
    }
  },
  "cells": [
    {
      "cell_type": "code",
      "execution_count": null,
      "metadata": {
        "id": "-yLENEStRRZM"
      },
      "outputs": [],
      "source": [
        "import numpy as np\n",
        "import pandas as pd\n",
        "from sklearn.model_selection import train_test_split\n",
        "from sklearn.tree import DecisionTreeClassifier\n",
        "from sklearn.metrics import accuracy_score"
      ]
    },
    {
      "cell_type": "code",
      "source": [
        "notas=np.array([[7.0,8.5],[5.0,6.0],[9.0,9.5],[3.0,4.0],[6.0,7.0],[2.0,3.5],[8.5,9.0],[4.5,5.0],[6.5,8.5]])"
      ],
      "metadata": {
        "id": "QOxMiNFLUGXf"
      },
      "execution_count": null,
      "outputs": []
    },
    {
      "cell_type": "code",
      "source": [
        "resultado=np.array([1,1,1,0,1,0,1,0,1])"
      ],
      "metadata": {
        "id": "NBHyrPUpUNxg"
      },
      "execution_count": null,
      "outputs": []
    },
    {
      "cell_type": "code",
      "metadata": {
        "id": "3eba94aa"
      },
      "source": [
        "tabela=pd.DataFrame(notas,columns=[\"nota1\",\"notas2\"])\n",
        "tabela[\"resultados\"]=resultado\n",
        "display(tabela)"
      ],
      "execution_count": null,
      "outputs": []
    },
    {
      "cell_type": "code",
      "source": [
        "X=tabela[[\"nota1\",\"notas2\",]]\n",
        "y=tabela['resultados']\n",
        "\n",
        "\n",
        "X_treino,X_teste,y_treino,y_teste=train_test_split(X,y,test_size=0.25,random_state=42)\n",
        "\n",
        "modelo=DecisionTreeClassifier()\n",
        "modelo.fit(X_treino,y_treino)"
      ],
      "metadata": {
        "id": "HajoIE4cUN2n"
      },
      "execution_count": null,
      "outputs": []
    },
    {
      "cell_type": "code",
      "source": [
        "y_prev=modelo.predict(X_teste)"
      ],
      "metadata": {
        "id": "Bg0L_b-RYs-v"
      },
      "execution_count": null,
      "outputs": []
    },
    {
      "cell_type": "code",
      "source": [
        "acuracia=accuracy_score(y_teste,y_prev)\n",
        "print(acuracia)"
      ],
      "metadata": {
        "id": "yimzGibPYtBe"
      },
      "execution_count": null,
      "outputs": []
    },
    {
      "cell_type": "code",
      "source": [
        "novo_aluno=pd.DataFrame({\"nota1\":[1.0,2.0],\"notas2\":[9.5,7.0]})\n",
        "previsoes=modelo.predict(novo_aluno)\n",
        "print(novo_aluno.assign(resultados=previsoes))"
      ],
      "metadata": {
        "colab": {
          "base_uri": "https://localhost:8080/"
        },
        "id": "0Wx1rKdDYtFQ",
        "outputId": "cbe77f29-7946-4325-fa55-687995f9d422"
      },
      "execution_count": null,
      "outputs": [
        {
          "output_type": "stream",
          "name": "stdout",
          "text": [
            "   nota1  notas2  resultados\n",
            "0    1.0     9.5           1\n",
            "1    2.0     7.0           1\n"
          ]
        }
      ]
    },
    {
      "cell_type": "code",
      "source": [],
      "metadata": {
        "id": "gvG2Qcj5YtS2"
      },
      "execution_count": null,
      "outputs": []
    }
  ]
}