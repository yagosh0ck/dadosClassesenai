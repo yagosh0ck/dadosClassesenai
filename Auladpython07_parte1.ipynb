{
  "nbformat": 4,
  "nbformat_minor": 0,
  "metadata": {
    "colab": {
      "provenance": []
    },
    "kernelspec": {
      "name": "python3",
      "display_name": "Python 3"
    },
    "language_info": {
      "name": "python"
    }
  },
  "cells": [
    {
      "cell_type": "code",
      "execution_count": 2,
      "metadata": {
        "id": "nbv759ZBPAdx"
      },
      "outputs": [],
      "source": [
        "import pandas as pd\n",
        "from google.colab import files\n",
        "from IPython.display import display\n",
        "import numpy as np\n",
        "import matplotlib.pyplot as plt"
      ]
    },
    {
      "cell_type": "code",
      "source": [
        "for i in range(10,21):\n",
        "  print(i) #intervalo de numero"
      ],
      "metadata": {
        "collapsed": true,
        "id": "gcQvr7HEVqQD"
      },
      "execution_count": null,
      "outputs": []
    },
    {
      "cell_type": "code",
      "source": [
        "lista=np.arange(10,21)\n",
        "print(lista) #intervalo de numero"
      ],
      "metadata": {
        "collapsed": true,
        "id": "OHXPb4mnWZ3k"
      },
      "execution_count": null,
      "outputs": []
    },
    {
      "cell_type": "code",
      "source": [
        "lista=np.zeros(8)\n",
        "print(lista) #criar zero"
      ],
      "metadata": {
        "id": "EtavF_40W1yj"
      },
      "execution_count": null,
      "outputs": []
    },
    {
      "cell_type": "code",
      "source": [
        "for i in range(0,51,5):\n",
        "  print(i) #multiplos de 5"
      ],
      "metadata": {
        "id": "hMQ6OEyLXVNr"
      },
      "execution_count": null,
      "outputs": []
    },
    {
      "cell_type": "code",
      "source": [
        "lista=np.arange(0,51,5)\n",
        "print(lista) #multiplos de 5"
      ],
      "metadata": {
        "id": "WkzJzK8IYDtl"
      },
      "execution_count": null,
      "outputs": []
    },
    {
      "cell_type": "code",
      "source": [
        "lista1=np.array([1,2,3])\n",
        "lista2=np.array([10,20,30])\n",
        "lista3=np.array([100,200,300])\n",
        "soma=lista1+lista2+lista3\n",
        "print(soma) #soma de array\n"
      ],
      "metadata": {
        "id": "HNn4_R2xYjBF"
      },
      "execution_count": null,
      "outputs": []
    },
    {
      "cell_type": "code",
      "source": [
        "notas=np.array([7.5,8.2,9.3,6.5])\n",
        "media=np.mean(notas)\n",
        "print( round (media)) #media"
      ],
      "metadata": {
        "id": "LCZcp3x5ZqrF"
      },
      "execution_count": null,
      "outputs": []
    },
    {
      "cell_type": "code",
      "source": [
        "numeros=np.array([18,22,9,35,40,27])\n",
        "maior=np.max(numeros)\n",
        "menor=np.min(numeros)\n",
        "print(f'o maior numero e: {maior}, e o menor numero e: {menor}') #maior e menor numero"
      ],
      "metadata": {
        "id": "m3RMqCJdam1l"
      },
      "execution_count": null,
      "outputs": []
    },
    {
      "cell_type": "code",
      "source": [
        "matriz=np.array([[1,2],[3,4]])\n",
        "print(matriz) #exibe matriz"
      ],
      "metadata": {
        "collapsed": true,
        "id": "VbBpG0tZbsm2"
      },
      "execution_count": null,
      "outputs": []
    },
    {
      "cell_type": "code",
      "source": [
        "lista=np.array([5,10,20])\n",
        "dobro=lista*2\n",
        "print(dobro) #dobro de numero"
      ],
      "metadata": {
        "id": "1FUjxZxmdRKE"
      },
      "execution_count": null,
      "outputs": []
    },
    {
      "cell_type": "code",
      "source": [
        "lista=np.array([8,10,10,12])\n",
        "soma=np.sum(lista)\n",
        "desvio = np.std(lista) #desvio padrao\n",
        "print(f'a soma e: {soma}, e o desvio padrao e: {desvio}') #soma e desvio padrao\n",
        "print(soma) #soma todos os numero da lista"
      ],
      "metadata": {
        "id": "cRlyjvI1d2Zl"
      },
      "execution_count": null,
      "outputs": []
    },
    {
      "cell_type": "code",
      "source": [
        "lista=np.array([5,15,20,7,9])\n",
        "maior_que_10=np.sum(lista>10)\n",
        "print(maior_que_10) #numero maior que 10"
      ],
      "metadata": {
        "id": "Fz-he4_NdOJO"
      },
      "execution_count": null,
      "outputs": []
    }
  ]
}