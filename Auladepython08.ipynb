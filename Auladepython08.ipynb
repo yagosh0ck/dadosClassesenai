{
  "nbformat": 4,
  "nbformat_minor": 0,
  "metadata": {
    "colab": {
      "provenance": []
    },
    "kernelspec": {
      "name": "python3",
      "display_name": "Python 3"
    },
    "language_info": {
      "name": "python"
    }
  },
  "cells": [
    {
      "cell_type": "code",
      "execution_count": 78,
      "metadata": {
        "id": "IlMdT4WyZEfi"
      },
      "outputs": [],
      "source": [
        "import numpy as np\n",
        "import pandas as pd\n",
        "from google.colab import files\n",
        "import matplotlib.pyplot as plt"
      ]
    },
    {
      "cell_type": "code",
      "source": [
        "vetor=np.array([1,2,3,4,5,])\n",
        "print(vetor)\n",
        "print(type(vetor))#tipo deles\n",
        "print(vetor.shape)#Quantidade de posicao\n",
        "print(vetor.dtype)#tipo de dado"
      ],
      "metadata": {
        "id": "4uWhoUF-elfo"
      },
      "execution_count": null,
      "outputs": []
    },
    {
      "cell_type": "code",
      "source": [
        "a=np.array([[1,2,3],[4,5,6]])\n",
        "b=np.array([1,2,3,4,5,6])\n",
        "c=np.array([[10,20,30],[40,50,60]],)\n",
        "\n",
        "d=a+c\n",
        "\n",
        "print(d)#calculo com matriz\n",
        "\n",
        "print(a.ndim)#dimensao\n",
        "print(b.ndim)\n",
        "\n",
        "print(a.shape)#Quantidade de linhas e colunas\n",
        "print(b.shape)\n",
        "\n",
        "print(a.size)#Quantidade de elementos\n",
        "print(b.size)\n",
        "\n",
        "print(a.nbytes)#Quantidade de bytes\n",
        "print(b.nbytes)"
      ],
      "metadata": {
        "id": "OZd0ojyWfEbo"
      },
      "execution_count": null,
      "outputs": []
    },
    {
      "cell_type": "code",
      "source": [
        "vetor1=np.array([[1,2,3],[4,5,6]])\n",
        "vetor2=np.array([[7,8,9],[10,11,12]])\n",
        "c=vetor1*vetor2\n",
        "print(c)"
      ],
      "metadata": {
        "id": "W6w47g2AlY6i"
      },
      "execution_count": null,
      "outputs": []
    },
    {
      "cell_type": "code",
      "source": [
        "vetor3=np.array([[13,14,15],[16,17,18]])\n",
        "vetor4=np.array([[19,20,21],[22,23,24]])\n",
        "d=vetor3+vetor4\n",
        "print(d)"
      ],
      "metadata": {
        "id": "NZTVXVT5l8qZ"
      },
      "execution_count": null,
      "outputs": []
    },
    {
      "cell_type": "code",
      "source": [
        "vetor5=np.array([[25,26,27],[28,29,30]])\n",
        "vetor6=np.array([[31,32,33],[34,35,36]])\n",
        "e=vetor5-vetor6\n",
        "print(e)"
      ],
      "metadata": {
        "id": "PhXiGqRmmMmK"
      },
      "execution_count": null,
      "outputs": []
    },
    {
      "cell_type": "code",
      "source": [
        "vetor7=np.array([[37,38,39],[40,41,42]])\n",
        "vetor8=np.array([[43,44,45],[46,47,49]])\n",
        "f=vetor7/vetor8\n",
        "print(f)"
      ],
      "metadata": {
        "id": "AaetxaIimSEx"
      },
      "execution_count": null,
      "outputs": []
    },
    {
      "cell_type": "code",
      "source": [
        "a=np.array([[1,2],[3,4],[5,6]])\n",
        "b=np.array([[10,20,30],[40,50,60]])\n",
        "c=np.transpose(b)#transposta\n",
        "\n",
        "print(a.flatten())#achata a matriz\n",
        "\n",
        "print(c)\n"
      ],
      "metadata": {
        "id": "rxcsI-s2o26D"
      },
      "execution_count": null,
      "outputs": []
    },
    {
      "cell_type": "code",
      "source": [
        "a=np.array([[1,2],[3,4],[5,6],[3,6],[4,6]])\n",
        "b=np.array([[10,20,30],[40,50,60]])\n",
        "c=np.transpose(b)\n",
        "d=np.reshape(a,(5,2))\n",
        "print(d)"
      ],
      "metadata": {
        "id": "7wNODR9fqR-D"
      },
      "execution_count": null,
      "outputs": []
    },
    {
      "cell_type": "code",
      "source": [
        "a=np.array([[1,2],[3,4],[5,6],[3,6],[4,6]])\n",
        "dp = np.std(a)#desvio padrao\n",
        "med=np.median(a)#mediana\n",
        "media=np.mean(a)#media\n",
        "variancia=np.var(a)#variancia\n",
        "raiz=np.sqrt(a)#raiz quadrada\n",
        "maior=np.max(a)#maior valor\n",
        "menor=np.min(a)#menor valor\n",
        "posicao_maior=np.argmax(a)#posicao do maior valor\n",
        "posicao_menor=np.argmin(a)#posicao do menor valor\n",
        "print(posicao_maior)\n",
        "print(posicao_menor)\n",
        "print(menor)\n",
        "print(maior)\n",
        "print(raiz)\n",
        "print(variancia)\n",
        "print(med)\n",
        "print(dp)\n",
        "print(media)"
      ],
      "metadata": {
        "id": "X21jCs84zPZl"
      },
      "execution_count": null,
      "outputs": []
    },
    {
      "cell_type": "code",
      "source": [
        "a=np.array([1,2,3,4,5])\n",
        "np.where(a>3,1,0)"
      ],
      "metadata": {
        "colab": {
          "base_uri": "https://localhost:8080/"
        },
        "id": "Z_cktCO-4FHm",
        "outputId": "8191a3e4-329b-4706-dfe2-a2a6874a5da3"
      },
      "execution_count": 88,
      "outputs": [
        {
          "output_type": "execute_result",
          "data": {
            "text/plain": [
              "array([0, 0, 0, 1, 1])"
            ]
          },
          "metadata": {},
          "execution_count": 88
        }
      ]
    }
  ]
}