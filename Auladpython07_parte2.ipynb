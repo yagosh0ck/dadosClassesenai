{
  "nbformat": 4,
  "nbformat_minor": 0,
  "metadata": {
    "colab": {
      "provenance": []
    },
    "kernelspec": {
      "name": "python3",
      "display_name": "Python 3"
    },
    "language_info": {
      "name": "python"
    }
  },
  "cells": [
    {
      "cell_type": "code",
      "execution_count": 44,
      "metadata": {
        "id": "m4wzo1jGsVfH"
      },
      "outputs": [],
      "source": [
        "import pandas as pd\n",
        "import numpy as np\n",
        "import matplotlib.pyplot as plt\n",
        "from google.colab import files"
      ]
    },
    {
      "cell_type": "code",
      "source": [
        "dados={\"estudante\":[\"ana\",\"bruno\",\"carla\",\"diego\",\"eduardo\"],\n",
        "       \"nota\":([8.3,5.3,7.5,10,9.8])}"
      ],
      "metadata": {
        "id": "Nv1Jyf1LszCT"
      },
      "execution_count": 45,
      "outputs": []
    },
    {
      "cell_type": "code",
      "source": [
        "tabela=pd.DataFrame(dados)\n",
        "display(tabela)"
      ],
      "metadata": {
        "id": "caBTUQ3ctZMr"
      },
      "execution_count": null,
      "outputs": []
    },
    {
      "cell_type": "code",
      "source": [
        "nota=np.array(tabela[\"nota\"])\n",
        "media=np.mean(nota)\n",
        "print(f'{media:.2f}\\n')\n",
        "                               #numpy\n",
        "\n",
        "maior=np.max(nota)\n",
        "menor=np.min(nota)\n",
        "print(f'o maior numero e: {maior}, e o menor numero e: {menor}')"
      ],
      "metadata": {
        "id": "X5ND77wwzUV9"
      },
      "execution_count": null,
      "outputs": []
    },
    {
      "cell_type": "code",
      "source": [
        "media=tabela[\"nota\"].mean()\n",
        "n_maxima=tabela[\"nota\"].max()\n",
        "n_minima=tabela[\"nota\"].min()\n",
        "aluno_max=tabela.loc[tabela[\"nota\"].idxmax(),\"estudante\"]\n",
        "auno_min=tabela.loc[tabela[\"nota\"].idxmin(),\"estudante\"]\n",
        "\n",
        "print(f'media das notas: {media:.2f}\\n')\n",
        "\n",
        "print(f'o estudante com a maior nota foi {aluno_max} com {n_maxima} \\n e o estudante com a menor nota foi {auno_min} com {n_minima}')\n",
        "\n",
        "print(round (media,2))"
      ],
      "metadata": {
        "id": "MviQg8f0uIxK"
      },
      "execution_count": null,
      "outputs": []
    },
    {
      "cell_type": "code",
      "source": [
        "tabela.to_excel(\"tabela.xlsx\", index=False)\n",
        "files.download(\"tabela.xlsx\")"
      ],
      "metadata": {
        "colab": {
          "base_uri": "https://localhost:8080/",
          "height": 17
        },
        "id": "kSNo6ndDt_va",
        "outputId": "c273b44e-bba6-4962-e870-84aac31e8d2a"
      },
      "execution_count": 51,
      "outputs": [
        {
          "output_type": "display_data",
          "data": {
            "text/plain": [
              "<IPython.core.display.Javascript object>"
            ],
            "application/javascript": [
              "\n",
              "    async function download(id, filename, size) {\n",
              "      if (!google.colab.kernel.accessAllowed) {\n",
              "        return;\n",
              "      }\n",
              "      const div = document.createElement('div');\n",
              "      const label = document.createElement('label');\n",
              "      label.textContent = `Downloading \"${filename}\": `;\n",
              "      div.appendChild(label);\n",
              "      const progress = document.createElement('progress');\n",
              "      progress.max = size;\n",
              "      div.appendChild(progress);\n",
              "      document.body.appendChild(div);\n",
              "\n",
              "      const buffers = [];\n",
              "      let downloaded = 0;\n",
              "\n",
              "      const channel = await google.colab.kernel.comms.open(id);\n",
              "      // Send a message to notify the kernel that we're ready.\n",
              "      channel.send({})\n",
              "\n",
              "      for await (const message of channel.messages) {\n",
              "        // Send a message to notify the kernel that we're ready.\n",
              "        channel.send({})\n",
              "        if (message.buffers) {\n",
              "          for (const buffer of message.buffers) {\n",
              "            buffers.push(buffer);\n",
              "            downloaded += buffer.byteLength;\n",
              "            progress.value = downloaded;\n",
              "          }\n",
              "        }\n",
              "      }\n",
              "      const blob = new Blob(buffers, {type: 'application/binary'});\n",
              "      const a = document.createElement('a');\n",
              "      a.href = window.URL.createObjectURL(blob);\n",
              "      a.download = filename;\n",
              "      div.appendChild(a);\n",
              "      a.click();\n",
              "      div.remove();\n",
              "    }\n",
              "  "
            ]
          },
          "metadata": {}
        },
        {
          "output_type": "display_data",
          "data": {
            "text/plain": [
              "<IPython.core.display.Javascript object>"
            ],
            "application/javascript": [
              "download(\"download_76c07b15-10d4-4184-8324-e235d5511d78\", \"tabela.xlsx\", 5034)"
            ]
          },
          "metadata": {}
        }
      ]
    }
  ]
}