{
  "nbformat": 4,
  "nbformat_minor": 0,
  "metadata": {
    "colab": {
      "provenance": []
    },
    "kernelspec": {
      "name": "python3",
      "display_name": "Python 3"
    },
    "language_info": {
      "name": "python"
    }
  },
  "cells": [
    {
      "cell_type": "code",
      "execution_count": null,
      "metadata": {
        "colab": {
          "base_uri": "https://localhost:8080/",
          "height": 90
        },
        "id": "zVepla0L-n9V",
        "outputId": "4b57356f-e48e-4432-fe84-f8e36319a82f"
      },
      "outputs": [
        {
          "output_type": "display_data",
          "data": {
            "text/plain": [
              "<IPython.core.display.HTML object>"
            ],
            "text/html": [
              "\n",
              "     <input type=\"file\" id=\"files-88b22ee8-c65b-48cf-bdea-19e11176b130\" name=\"files[]\" multiple disabled\n",
              "        style=\"border:none\" />\n",
              "     <output id=\"result-88b22ee8-c65b-48cf-bdea-19e11176b130\">\n",
              "      Upload widget is only available when the cell has been executed in the\n",
              "      current browser session. Please rerun this cell to enable.\n",
              "      </output>\n",
              "      <script>// Copyright 2017 Google LLC\n",
              "//\n",
              "// Licensed under the Apache License, Version 2.0 (the \"License\");\n",
              "// you may not use this file except in compliance with the License.\n",
              "// You may obtain a copy of the License at\n",
              "//\n",
              "//      http://www.apache.org/licenses/LICENSE-2.0\n",
              "//\n",
              "// Unless required by applicable law or agreed to in writing, software\n",
              "// distributed under the License is distributed on an \"AS IS\" BASIS,\n",
              "// WITHOUT WARRANTIES OR CONDITIONS OF ANY KIND, either express or implied.\n",
              "// See the License for the specific language governing permissions and\n",
              "// limitations under the License.\n",
              "\n",
              "/**\n",
              " * @fileoverview Helpers for google.colab Python module.\n",
              " */\n",
              "(function(scope) {\n",
              "function span(text, styleAttributes = {}) {\n",
              "  const element = document.createElement('span');\n",
              "  element.textContent = text;\n",
              "  for (const key of Object.keys(styleAttributes)) {\n",
              "    element.style[key] = styleAttributes[key];\n",
              "  }\n",
              "  return element;\n",
              "}\n",
              "\n",
              "// Max number of bytes which will be uploaded at a time.\n",
              "const MAX_PAYLOAD_SIZE = 100 * 1024;\n",
              "\n",
              "function _uploadFiles(inputId, outputId) {\n",
              "  const steps = uploadFilesStep(inputId, outputId);\n",
              "  const outputElement = document.getElementById(outputId);\n",
              "  // Cache steps on the outputElement to make it available for the next call\n",
              "  // to uploadFilesContinue from Python.\n",
              "  outputElement.steps = steps;\n",
              "\n",
              "  return _uploadFilesContinue(outputId);\n",
              "}\n",
              "\n",
              "// This is roughly an async generator (not supported in the browser yet),\n",
              "// where there are multiple asynchronous steps and the Python side is going\n",
              "// to poll for completion of each step.\n",
              "// This uses a Promise to block the python side on completion of each step,\n",
              "// then passes the result of the previous step as the input to the next step.\n",
              "function _uploadFilesContinue(outputId) {\n",
              "  const outputElement = document.getElementById(outputId);\n",
              "  const steps = outputElement.steps;\n",
              "\n",
              "  const next = steps.next(outputElement.lastPromiseValue);\n",
              "  return Promise.resolve(next.value.promise).then((value) => {\n",
              "    // Cache the last promise value to make it available to the next\n",
              "    // step of the generator.\n",
              "    outputElement.lastPromiseValue = value;\n",
              "    return next.value.response;\n",
              "  });\n",
              "}\n",
              "\n",
              "/**\n",
              " * Generator function which is called between each async step of the upload\n",
              " * process.\n",
              " * @param {string} inputId Element ID of the input file picker element.\n",
              " * @param {string} outputId Element ID of the output display.\n",
              " * @return {!Iterable<!Object>} Iterable of next steps.\n",
              " */\n",
              "function* uploadFilesStep(inputId, outputId) {\n",
              "  const inputElement = document.getElementById(inputId);\n",
              "  inputElement.disabled = false;\n",
              "\n",
              "  const outputElement = document.getElementById(outputId);\n",
              "  outputElement.innerHTML = '';\n",
              "\n",
              "  const pickedPromise = new Promise((resolve) => {\n",
              "    inputElement.addEventListener('change', (e) => {\n",
              "      resolve(e.target.files);\n",
              "    });\n",
              "  });\n",
              "\n",
              "  const cancel = document.createElement('button');\n",
              "  inputElement.parentElement.appendChild(cancel);\n",
              "  cancel.textContent = 'Cancel upload';\n",
              "  const cancelPromise = new Promise((resolve) => {\n",
              "    cancel.onclick = () => {\n",
              "      resolve(null);\n",
              "    };\n",
              "  });\n",
              "\n",
              "  // Wait for the user to pick the files.\n",
              "  const files = yield {\n",
              "    promise: Promise.race([pickedPromise, cancelPromise]),\n",
              "    response: {\n",
              "      action: 'starting',\n",
              "    }\n",
              "  };\n",
              "\n",
              "  cancel.remove();\n",
              "\n",
              "  // Disable the input element since further picks are not allowed.\n",
              "  inputElement.disabled = true;\n",
              "\n",
              "  if (!files) {\n",
              "    return {\n",
              "      response: {\n",
              "        action: 'complete',\n",
              "      }\n",
              "    };\n",
              "  }\n",
              "\n",
              "  for (const file of files) {\n",
              "    const li = document.createElement('li');\n",
              "    li.append(span(file.name, {fontWeight: 'bold'}));\n",
              "    li.append(span(\n",
              "        `(${file.type || 'n/a'}) - ${file.size} bytes, ` +\n",
              "        `last modified: ${\n",
              "            file.lastModifiedDate ? file.lastModifiedDate.toLocaleDateString() :\n",
              "                                    'n/a'} - `));\n",
              "    const percent = span('0% done');\n",
              "    li.appendChild(percent);\n",
              "\n",
              "    outputElement.appendChild(li);\n",
              "\n",
              "    const fileDataPromise = new Promise((resolve) => {\n",
              "      const reader = new FileReader();\n",
              "      reader.onload = (e) => {\n",
              "        resolve(e.target.result);\n",
              "      };\n",
              "      reader.readAsArrayBuffer(file);\n",
              "    });\n",
              "    // Wait for the data to be ready.\n",
              "    let fileData = yield {\n",
              "      promise: fileDataPromise,\n",
              "      response: {\n",
              "        action: 'continue',\n",
              "      }\n",
              "    };\n",
              "\n",
              "    // Use a chunked sending to avoid message size limits. See b/62115660.\n",
              "    let position = 0;\n",
              "    do {\n",
              "      const length = Math.min(fileData.byteLength - position, MAX_PAYLOAD_SIZE);\n",
              "      const chunk = new Uint8Array(fileData, position, length);\n",
              "      position += length;\n",
              "\n",
              "      const base64 = btoa(String.fromCharCode.apply(null, chunk));\n",
              "      yield {\n",
              "        response: {\n",
              "          action: 'append',\n",
              "          file: file.name,\n",
              "          data: base64,\n",
              "        },\n",
              "      };\n",
              "\n",
              "      let percentDone = fileData.byteLength === 0 ?\n",
              "          100 :\n",
              "          Math.round((position / fileData.byteLength) * 100);\n",
              "      percent.textContent = `${percentDone}% done`;\n",
              "\n",
              "    } while (position < fileData.byteLength);\n",
              "  }\n",
              "\n",
              "  // All done.\n",
              "  yield {\n",
              "    response: {\n",
              "      action: 'complete',\n",
              "    }\n",
              "  };\n",
              "}\n",
              "\n",
              "scope.google = scope.google || {};\n",
              "scope.google.colab = scope.google.colab || {};\n",
              "scope.google.colab._files = {\n",
              "  _uploadFiles,\n",
              "  _uploadFilesContinue,\n",
              "};\n",
              "})(self);\n",
              "</script> "
            ]
          },
          "metadata": {}
        },
        {
          "output_type": "stream",
          "name": "stdout",
          "text": [
            "Saving frequencias.xlsx to frequencias (1).xlsx\n",
            "frequencias (1).xlsx\n"
          ]
        }
      ],
      "source": [
        "from google.colab import files\n",
        "entrada=files.upload()\n",
        "treino_path=list(entrada.keys())[0]\n",
        "print(treino_path)\n"
      ]
    },
    {
      "cell_type": "code",
      "source": [
        "import pandas as pd\n",
        "from sklearn.model_selection import train_test_split #treino e teste\n",
        "from sklearn.preprocessing import StandardScaler #padronizçao\n",
        "from sklearn.tree import DecisionTreeClassifier #modelo de classificaçao\n",
        "import joblib #trabalho diversos\n",
        "from sklearn.pipeline import Pipeline #linha de produçao"
      ],
      "metadata": {
        "id": "14ys7j6iA4xC"
      },
      "execution_count": null,
      "outputs": []
    },
    {
      "cell_type": "code",
      "source": [
        "tabela=pd.read_excel(treino_path)\n",
        "print(tabela)"
      ],
      "metadata": {
        "id": "goK_npU6As2z"
      },
      "execution_count": null,
      "outputs": []
    },
    {
      "cell_type": "code",
      "source": [
        "X=tabela.drop(columns=[\"Situacao\", \"Aluno\"],errors=\"ignore\")\n",
        "y=tabela[\"Situacao\"]\n",
        "#print(Y)\n",
        "#print(X)"
      ],
      "metadata": {
        "id": "FA5N513DB-Jq"
      },
      "execution_count": null,
      "outputs": []
    },
    {
      "cell_type": "code",
      "source": [
        "X_tr,X_te,y_tr,y_te=train_test_split(X,y,test_size=0.25, random_state=42, stratify=y)"
      ],
      "metadata": {
        "id": "HFj4LmhkDSeK"
      },
      "execution_count": null,
      "outputs": []
    },
    {
      "cell_type": "code",
      "source": [
        "pipe=Pipeline([(\"escala\",StandardScaler()),(\"modelo\",DecisionTreeClassifier(max_depth=3,random_state=42))])"
      ],
      "metadata": {
        "id": "tf3RBdBBF-Qi"
      },
      "execution_count": null,
      "outputs": []
    },
    {
      "cell_type": "code",
      "source": [
        "pipe.fit(X_tr,y_tr)"
      ],
      "metadata": {
        "id": "iFNwIwUpHfqx"
      },
      "execution_count": null,
      "outputs": []
    },
    {
      "cell_type": "code",
      "source": [
        "joblib.dump(pipe,\"modelo_frequencia.pkl\")\n",
        "print(\"salvo\")"
      ],
      "metadata": {
        "colab": {
          "base_uri": "https://localhost:8080/"
        },
        "id": "bDIbNm37IFCy",
        "outputId": "dd71e3f7-e0e1-476c-d9e7-a3285ae1de4e"
      },
      "execution_count": null,
      "outputs": [
        {
          "output_type": "stream",
          "name": "stdout",
          "text": [
            "salvo\n"
          ]
        }
      ]
    },
    {
      "cell_type": "code",
      "source": [
        "from google.colab import files\n",
        "import pandas as pd\n",
        "import joblib"
      ],
      "metadata": {
        "id": "_CXr7JsMJQl5"
      },
      "execution_count": null,
      "outputs": []
    },
    {
      "cell_type": "code",
      "source": [
        "print(\"envie a nova planilha sem o campo situaçao\")\n",
        "uploaded_novo=files.upload()\n",
        "novo_path=list(uploaded_novo.keys())[0]\n",
        "print(\"arquivo:\",novo_path)"
      ],
      "metadata": {
        "collapsed": true,
        "id": "zZhb4DP-KqiZ"
      },
      "execution_count": null,
      "outputs": []
    },
    {
      "cell_type": "code",
      "source": [
        "tabela_nova=pd.read_excel(novo_path)\n",
        "pipe=joblib.load(\"modelo_frequencia.pkl\")"
      ],
      "metadata": {
        "collapsed": true,
        "id": "d66PQwdHLSvR"
      },
      "execution_count": null,
      "outputs": []
    },
    {
      "cell_type": "code",
      "source": [
        "X_novo = tabela_nova.drop(columns=[\"Aluno\", \"Situacao_prevista\"], errors=\"ignore\")\n",
        "tabela_nova[\"Situacao_prevista\"] = pipe.predict(X_novo)"
      ],
      "metadata": {
        "id": "ZPYnlFKAMGWB"
      },
      "execution_count": null,
      "outputs": []
    },
    {
      "cell_type": "code",
      "source": [
        "saida=novo_path.replace(\".xlsx\",\"com predicoes.xlsx\")\n",
        "tabela_nova.to_excel(saida,index=False)\n",
        "print(\"Arquivo salvo\",saida)\n",
        "\n"
      ],
      "metadata": {
        "id": "P8nlEY3vMy15"
      },
      "execution_count": null,
      "outputs": []
    },
    {
      "cell_type": "code",
      "source": [
        "files.download(saida)"
      ],
      "metadata": {
        "id": "E74_L9weNX3B"
      },
      "execution_count": null,
      "outputs": []
    },
    {
      "cell_type": "markdown",
      "source": [
        "Meu Exemplo"
      ],
      "metadata": {
        "id": "cnIOR3nPP-c5"
      }
    },
    {
      "cell_type": "code",
      "source": [
        "uplod=files.upload()\n",
        "novo_pat=list(uplod.keys())[0]\n",
        "print(novo_pat)"
      ],
      "metadata": {
        "id": "z4mrErQgOtvB"
      },
      "execution_count": null,
      "outputs": []
    },
    {
      "cell_type": "code",
      "source": [
        "tb_n=pd.read_excel(novo_pat)\n",
        "pipe=joblib.load(\"modelo_fequencia.pkl\")"
      ],
      "metadata": {
        "id": "hvRHSH3cO7GQ"
      },
      "execution_count": null,
      "outputs": []
    },
    {
      "cell_type": "code",
      "source": [
        "X_nv=tb_n.drop(columns=[\"Aluno\",\"Situacao_prevista\"],errors=\"ignore\")\n",
        "tb_n[\"Situacao_prevista\"]=pipe.predict(X_nv)"
      ],
      "metadata": {
        "id": "wYRj7WGlPKuh"
      },
      "execution_count": null,
      "outputs": []
    },
    {
      "cell_type": "code",
      "source": [
        "sd=novo_pat.replace(\".xlsx\",\"com pedicoes.xlsx\")\n",
        "tb_n.to_excel(sd,index=False)\n",
        "print(\"arquivo salvo\",sd)"
      ],
      "metadata": {
        "id": "m-5GmLklPVGp"
      },
      "execution_count": null,
      "outputs": []
    },
    {
      "cell_type": "code",
      "source": [
        "files.download(sd)"
      ],
      "metadata": {
        "id": "YcUS8KyGPmz5"
      },
      "execution_count": null,
      "outputs": []
    },
    {
      "cell_type": "markdown",
      "source": [
        "outro modelo"
      ],
      "metadata": {
        "id": "UtXYdLRwd6Sw"
      }
    },
    {
      "cell_type": "code",
      "source": [
        "entrada=files.upload()\n",
        "treino_path=list(entrada.keys())[0]\n",
        "print(treino_path)\n"
      ],
      "metadata": {
        "collapsed": true,
        "id": "hqpB_SKecnvQ"
      },
      "execution_count": null,
      "outputs": []
    },
    {
      "cell_type": "code",
      "source": [
        "tabela=pd.read_excel(treino_path)\n",
        "print(tabela)"
      ],
      "metadata": {
        "id": "hR7v7zNKdoOA"
      },
      "execution_count": null,
      "outputs": []
    },
    {
      "cell_type": "code",
      "source": [
        "X=tbl_nova.drop(columns=[\"situacao\", \"Aluno\"],errors=\"ignore\")\n",
        "y=tbl_nova[\"situacao\"]\n",
        "#print(Y)\n",
        "#print(X)"
      ],
      "metadata": {
        "id": "pDL4azbGeJoX"
      },
      "execution_count": null,
      "outputs": []
    },
    {
      "cell_type": "code",
      "metadata": {
        "id": "9545d904"
      },
      "source": [
        "X_tr, X_te, y_tr, y_te = train_test_split(X, y, test_size=0.25, random_state=42, stratify=y)"
      ],
      "execution_count": null,
      "outputs": []
    },
    {
      "cell_type": "code",
      "metadata": {
        "id": "20eb8e05"
      },
      "source": [
        "pipe = Pipeline([(\"escala\", StandardScaler()), (\"modelo\", DecisionTreeClassifier(max_depth=3, random_state=42))])\n"
      ],
      "execution_count": null,
      "outputs": []
    },
    {
      "cell_type": "code",
      "source": [
        "pipe.fit(X_tr, y_tr)"
      ],
      "metadata": {
        "id": "JX5jecTgfbAH"
      },
      "execution_count": null,
      "outputs": []
    },
    {
      "cell_type": "code",
      "source": [
        "joblib.dump(pipe,\"modelo_frequencia.pkl\")\n",
        "print(\"salvo\")"
      ],
      "metadata": {
        "id": "-oTHDEPTfjGv"
      },
      "execution_count": null,
      "outputs": []
    },
    {
      "cell_type": "code",
      "source": [
        "print(\"envie a nova planilha sem o campo situaçao\")\n",
        "uplod_novo=files.upload()\n",
        "nv_path=list(uplod_novo.keys())[0]\n",
        "print(\"arquivo:\",nv_path)"
      ],
      "metadata": {
        "id": "pgnLGFF2fpm_"
      },
      "execution_count": null,
      "outputs": []
    },
    {
      "cell_type": "code",
      "source": [
        "tbl_nova=pd.read_excel(nv_path)\n",
        "pipe=joblib.load(\"modelo_frequencia.pkl\")"
      ],
      "metadata": {
        "id": "xWdcbRUvf9eX"
      },
      "execution_count": null,
      "outputs": []
    },
    {
      "cell_type": "code",
      "source": [
        "X_nv=tbl_nova.drop(columns=[\"Aluno\",\"Situacao_prevista\"],errors=\"ignore\")\n",
        "tbl_nova[\"Situacao_prevista\"]=pipe.predict(X_nv)"
      ],
      "metadata": {
        "id": "wcQHggikgLPX"
      },
      "execution_count": null,
      "outputs": []
    },
    {
      "cell_type": "code",
      "source": [
        "sd=nv_path.replace(\".xlsx\",\"com pedicoes.xlsx\")\n",
        "tbl_nova.to_excel(sd,index=False)\n",
        "print(\"arquivo salvo\",sd)"
      ],
      "metadata": {
        "id": "7YOYQNZfgeEf"
      },
      "execution_count": null,
      "outputs": []
    },
    {
      "cell_type": "code",
      "source": [
        "files.download(sd)\n"
      ],
      "metadata": {
        "id": "slX9J-5vgovX"
      },
      "execution_count": null,
      "outputs": []
    }
  ]
}